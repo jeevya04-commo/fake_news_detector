{
 "cells": [
  {
   "cell_type": "code",
   "execution_count": 1,
   "id": "ad29fa20-18a4-4fbd-bd41-5bea91cbfa88",
   "metadata": {},
   "outputs": [
    {
     "name": "stderr",
     "output_type": "stream",
     "text": [
      "[nltk_data] Downloading package stopwords to\n",
      "[nltk_data]     C:\\Users\\user\\AppData\\Roaming\\nltk_data...\n",
      "[nltk_data]   Package stopwords is already up-to-date!\n",
      "2025-04-13 12:16:46.004 \n",
      "  \u001b[33m\u001b[1mWarning:\u001b[0m to view this Streamlit app on a browser, run it with the following\n",
      "  command:\n",
      "\n",
      "    streamlit run C:\\Users\\user\\anaconda3\\finalanaconda\\Lib\\site-packages\\ipykernel_launcher.py [ARGUMENTS]\n"
     ]
    }
   ],
   "source": [
    "import streamlit as st\n",
    "import joblib\n",
    "import re\n",
    "import nltk\n",
    "from nltk.corpus import stopwords\n",
    "\n",
    "nltk.download('stopwords')\n",
    "stop_words = set(stopwords.words('english'))\n",
    "\n",
    "# Load model and vectorizer\n",
    "model = joblib.load(\"fake_news_model.pkl\")\n",
    "vectorizer = joblib.load(\"vectorizer.pkl\")\n",
    "\n",
    "# Clean text\n",
    "def clean_text(text):\n",
    "    text = str(text).lower()\n",
    "    text = re.sub(r\"http\\S+|www\\S+|[^a-z\\s]\", \"\", text)\n",
    "    text = re.sub(r\"\\s+\", \" \", text).strip()\n",
    "    return ' '.join([word for word in text.split() if word not in stop_words])\n",
    "\n",
    "# Web UI\n",
    "st.set_page_config(page_title=\"Fake News Detector\", page_icon=\"📰\", layout=\"centered\")\n",
    "st.title(\"📰 Fake News Detector\")\n",
    "\n",
    "input_text = st.text_input(\"Enter a news headline:\")\n",
    "\n",
    "if st.button(\"Check News\"):\n",
    "    if input_text:\n",
    "        cleaned = clean_text(input_text)\n",
    "        vectorized = vectorizer.transform([cleaned])\n",
    "        prediction = model.predict(vectorized)\n",
    "\n",
    "        if prediction == 0:\n",
    "            st.error(\"❌ Uh-oh! It's Fake News! 😱\")\n",
    "        else:\n",
    "            st.success(\"✅ Yay! It's Real News! 🥳\")\n",
    "    else:\n",
    "        st.warning(\"⚠️ Please enter something.\")"
   ]
  }
 ],
 "metadata": {
  "kernelspec": {
   "display_name": "Python 3 (ipykernel)",
   "language": "python",
   "name": "python3"
  },
  "language_info": {
   "codemirror_mode": {
    "name": "ipython",
    "version": 3
   },
   "file_extension": ".py",
   "mimetype": "text/x-python",
   "name": "python",
   "nbconvert_exporter": "python",
   "pygments_lexer": "ipython3",
   "version": "3.12.4"
  }
 },
 "nbformat": 4,
 "nbformat_minor": 5
}
